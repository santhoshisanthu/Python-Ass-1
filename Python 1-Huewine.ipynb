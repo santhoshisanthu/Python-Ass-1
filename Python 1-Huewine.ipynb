{
 "cells": [
  {
   "cell_type": "code",
   "execution_count": 1,
   "id": "d7118724",
   "metadata": {},
   "outputs": [
    {
     "name": "stdout",
     "output_type": "stream",
     "text": [
      "Enter the Length: 6\n",
      "Enter the breadth: 9\n",
      "Enter the radius: 7\n",
      "Area of the Rectangle:  54.0\n",
      "Perimeter of the Rectangle:  30.0\n",
      "Area of the Circle:  153.37\n",
      "Circumference of the Circle:  43.96\n"
     ]
    }
   ],
   "source": [
    "'''\n",
    "1.he length & breadth of a rectangle and radius of a circle are input through the keyboard.\n",
    "Write a program to calculate the area & perimeter of the rectangle, and the area & circumference of the circle.\n",
    "'''\n",
    "l = float(input(\"Enter the Length: \"))\n",
    "b = float(input(\"Enter the breadth: \"))\n",
    "\n",
    "r = float(input(\"Enter the radius: \"))\n",
    "\n",
    "Area = l * b\n",
    "print(\"Area of the Rectangle: \",Area)\n",
    "Perimeter = 2 * (l + b)\n",
    "print(\"Perimeter of the Rectangle: \",Perimeter)\n",
    "\n",
    "area = 3.13 * r * r\n",
    "print(\"Area of the Circle: \",area)\n",
    "circumference = 2 * 3.14 * r\n",
    "print(\"Circumference of the Circle: \",circumference)"
   ]
  },
  {
   "cell_type": "code",
   "execution_count": 2,
   "id": "de0242e0",
   "metadata": {},
   "outputs": [
    {
     "name": "stdout",
     "output_type": "stream",
     "text": [
      "Enter the number: 5\n",
      "Enter the number: 8\n",
      "C Value: 8\n",
      "D value: 5\n"
     ]
    }
   ],
   "source": [
    "'''\n",
    "2.Two numbers are input through the keyboard into two locations C and D.\n",
    "Write a program to interchange the contents of C and D.\n",
    "'''\n",
    "C = int(input(\"Enter the number: \"))\n",
    "D = int(input(\"Enter the number: \"))\n",
    "\n",
    "temp = C\n",
    "C = D\n",
    "D = temp\n",
    "print(\"C Value: {}\".format(C))\n",
    "print(\"D value: {}\".format(D))"
   ]
  },
  {
   "cell_type": "code",
   "execution_count": 3,
   "id": "4932784e",
   "metadata": {},
   "outputs": [
    {
     "name": "stdout",
     "output_type": "stream",
     "text": [
      "Enter the num: 78654\n",
      "Reverse the number: 45687\n"
     ]
    }
   ],
   "source": [
    "#3.If a five-digit number is input through the keyboard, write a program to reverse the number.\n",
    "a = input(\"Enter the num: \")\n",
    "rev = a[::-1]\n",
    "print(\"Reverse the number:\",rev)"
   ]
  },
  {
   "cell_type": "code",
   "execution_count": 4,
   "id": "79861e36",
   "metadata": {},
   "outputs": [
    {
     "name": "stdout",
     "output_type": "stream",
     "text": [
      "Total number of illiterate men:  13600.0\n",
      "Total number of illiterate women:  10400.0\n"
     ]
    }
   ],
   "source": [
    "'''\n",
    "4.In a town, the percentage of men is 52. The percentage of total literacy is 48.\n",
    "If total percentage of literate men is 35 of the total population, \n",
    "write a program to find the total number of illiterate men and women if the population of the town is 80,000.\n",
    "'''\n",
    "pop = 80000\n",
    "per_men = 52\n",
    "per_lit = 48\n",
    "per_lit_men = 35\n",
    "\n",
    "total_men = (per_men / 100) * pop\n",
    "total_lit_men = (per_lit_men / 100) * pop\n",
    "total_illit_men = total_men - total_lit_men\n",
    "total_lit = pop - total_men\n",
    "total_illit_women = total_lit - total_lit_men\n",
    "\n",
    "print(\"Total number of illiterate men: \",total_illit_men)\n",
    "print(\"Total number of illiterate women: \",total_illit_women)\n",
    "    "
   ]
  },
  {
   "cell_type": "code",
   "execution_count": 5,
   "id": "9ced0e01",
   "metadata": {},
   "outputs": [
    {
     "name": "stdout",
     "output_type": "stream",
     "text": [
      "Enter the number: 45678\n",
      "After adding one to each of its digits number: 56789\n"
     ]
    }
   ],
   "source": [
    "'''\n",
    "5.If a five-digit number is input through the keyboard,\n",
    "write a program to print a new number by adding one to each of its digits. \n",
    "For example, if the number that is input is 12391 then the output should be displayed as 23402.\n",
    "'''\n",
    "def add_one_to_each_of_its_digits(number):\n",
    "    num_str = str(number)\n",
    "    num = ''\n",
    "    \n",
    "    for i in num_str:\n",
    "        num_i = str(((int(i)+1))%10)\n",
    "        num += num_i\n",
    "        \n",
    "    return int(num)\n",
    "\n",
    "while True:\n",
    "    try:\n",
    "        number = int(input(\"Enter the number: \"))\n",
    "        if len(str(number)) != 5:\n",
    "            print(\"Enter the 5 digit number only..\")\n",
    "        else:\n",
    "            break\n",
    "    except ValueError:\n",
    "        print(\"Invalid number, Enter the correct number...\")\n",
    "        \n",
    "num = add_one_to_each_of_its_digits(number)\n",
    "print(\"After adding one to each of its digits number:\",num)"
   ]
  },
  {
   "cell_type": "code",
   "execution_count": 6,
   "id": "13cbf850",
   "metadata": {},
   "outputs": [
    {
     "name": "stdout",
     "output_type": "stream",
     "text": [
      "Enter the quantity: 456\n",
      "Enter the price per item: 89\n",
      "Total expenses: $ 36525.6\n"
     ]
    }
   ],
   "source": [
    "'''\n",
    "6.While purchasing certain items, a discount of 10% is offered if the quantity purchased is more than 10. \n",
    "If quantity and price per item are input through the keyboard, \n",
    "write a program to calculate the total expenses.\n",
    "'''\n",
    "quantity = int(input(\"Enter the quantity: \"))\n",
    "price_per_item = int(input(\"Enter the price per item: \"))\n",
    "\n",
    "def calculate_total_expenses(quantity, price_per_item):\n",
    "    if quantity > 10:\n",
    "        discount = 0.10 * price_per_item * quantity\n",
    "        total_expenses = price_per_item * quantity - discount\n",
    "    else:\n",
    "        total_expenses = price_per_item * quantity\n",
    "    return total_expenses\n",
    "\n",
    "total_expenses = calculate_total_expenses(quantity, price_per_item)\n",
    "\n",
    "print(\"Total expenses: $\", total_expenses)"
   ]
  },
  {
   "cell_type": "code",
   "execution_count": 7,
   "id": "64903aed",
   "metadata": {},
   "outputs": [
    {
     "name": "stdout",
     "output_type": "stream",
     "text": [
      "Enter the celling price: 2324\n",
      "Enter the selling price: 786\n",
      "The seller has incurred a loss of $ 1538\n"
     ]
    }
   ],
   "source": [
    "'''\n",
    "7.If cost price and selling price of an item is input through the keyboard, \n",
    "write a program to determine whether the seller has made profit or incurred loss.\n",
    "Also determine how much profit he made or loss he incurred.\n",
    "'''\n",
    "cp = int(input(\"Enter the celling price: \"))\n",
    "sp = int(input(\"Enter the selling price: \"))\n",
    "\n",
    "def calculate_profit_or_loss(cp, sp):\n",
    "    if sp > cp:\n",
    "        profit = sp - cp\n",
    "        return \"profit\", profit\n",
    "    elif sp < cp:\n",
    "        loss = cp - sp\n",
    "        return \"loss\", loss\n",
    "    else:\n",
    "        return \"neither profit nor loss\", 0\n",
    "    \n",
    "result, amount = calculate_profit_or_loss(cp, sp)\n",
    "\n",
    "if result == \"profit\":\n",
    "    print(\"The seller has made a profit of $\", amount)\n",
    "elif result == \"loss\":\n",
    "    print(\"The seller has incurred a loss of $\", amount)\n",
    "else:\n",
    "    print(\"The seller has neither made a profit nor incurred a loss.\")"
   ]
  },
  {
   "cell_type": "code",
   "execution_count": 8,
   "id": "41d35bb3",
   "metadata": {},
   "outputs": [
    {
     "name": "stdout",
     "output_type": "stream",
     "text": [
      "Enter the Length: 5\n",
      "Enter the breadth: 9\n",
      "Area of the rectangle:  45.0\n",
      "Perimeter of the rectangle:  28.0\n",
      "The area of the rectangle is greater than its perimeter.\n"
     ]
    }
   ],
   "source": [
    "'''\n",
    "8.Given the length and breadth of a rectangle, \n",
    "write a program to find whether the area of the rectangle is greater than its perimeter. \n",
    "For example, the area of the rectangle with length = 5 and breadth = 4 is greater than its perimeter\n",
    "'''\n",
    "l = float(input(\"Enter the Length: \"))\n",
    "b = float(input(\"Enter the breadth: \"))\n",
    "\n",
    "def comparing_area_and_perimeter(l, b):\n",
    "    Area = l * b\n",
    "    Perimeter = 2 * (l + b)\n",
    "    print(\"Area of the rectangle: \",Area)\n",
    "    print(\"Perimeter of the rectangle: \",Perimeter)\n",
    "\n",
    "    if Area > Perimeter:\n",
    "        return True\n",
    "    else:\n",
    "        return False\n",
    "    \n",
    "if comparing_area_and_perimeter(l, b):\n",
    "    print(\"The area of the rectangle is greater than its perimeter.\")\n",
    "else:\n",
    "    print(\"The area of the rectangle is not greater than its perimeter.\")"
   ]
  },
  {
   "cell_type": "code",
   "execution_count": 9,
   "id": "8199dc1b",
   "metadata": {},
   "outputs": [
    {
     "name": "stdout",
     "output_type": "stream",
     "text": [
      "Enter the amount to be withdrawn in hundreds: 900\n",
      "Number of 100s: 900\n",
      "Number of 50s: 0\n",
      "Number of 10s: 0\n"
     ]
    }
   ],
   "source": [
    "'''\n",
    "9.A cashier has currency notes of denominations 10, 50 and 100. \n",
    "If the amount to be withdrawn is input through the keyboard in hundreds, \n",
    "find the total number of currency notes of each denomination the cashier will have to give to the withdrawer\n",
    "'''\n",
    "amount_in_hundreds = int(input(\"Enter the amount to be withdrawn in hundreds: \"))\n",
    "\n",
    "def calculate_currency_notes(amount_in_hundreds):\n",
    "    amount = amount_in_hundreds * 100\n",
    "\n",
    "    notes_100 = 0\n",
    "    notes_50 = 0\n",
    "    notes_10 = 0\n",
    "    \n",
    "    notes_100 = amount // 100\n",
    "    amount %= 100\n",
    "\n",
    "    notes_50 = amount // 50\n",
    "    amount %= 50\n",
    "\n",
    "    notes_10 = amount // 10\n",
    "    amount %= 10\n",
    "\n",
    "    return notes_100, notes_50, notes_10\n",
    "\n",
    "notes_100, notes_50, notes_10 = calculate_currency_notes(amount_in_hundreds)\n",
    "\n",
    "print(\"Number of 100s:\", notes_100)\n",
    "print(\"Number of 50s:\", notes_50)\n",
    "print(\"Number of 10s:\", notes_10)\n"
   ]
  },
  {
   "cell_type": "code",
   "execution_count": null,
   "id": "2f434302",
   "metadata": {},
   "outputs": [],
   "source": [
    "'''\n",
    "10.If his basic salary is less than Rs. 1500, then HRA = 10% of basic salary and DA = 90% of basic salary. \n",
    "If his salary is either equal to or above Rs. 1500, then HRA = Rs. 500 and DA = 98% of basic salary. \n",
    "If the employee's salary is input through the keyboard write a program to find his gross salary\n",
    "'''\n",
    "employees salary = float(input(\"Enter the employee salary: \"))\n",
    "\n",
    "def calculate_gross_salary(basic_salary):\n",
    "    if basic_salary < 1500:\n",
    "        hra = 0.10 * basic_salary\n",
    "        da = 0.90 * basic_salary\n",
    "    else:\n",
    "        hra = 500\n",
    "        da = 0.98 * basic_salary\n",
    "    \n",
    "    gross_salary = basic_salary + hra + da\n",
    "    return gross_salary\n",
    "\n",
    "gross_salary = calculate_gross_salary(basic_salary)\n",
    "\n",
    "print(\"Gross salary: Rs.\", gross_salary)\n"
   ]
  },
  {
   "cell_type": "code",
   "execution_count": 12,
   "id": "21f0194a",
   "metadata": {},
   "outputs": [
    {
     "name": "stdout",
     "output_type": "stream",
     "text": [
      "Enter the age of Ram: 6\n",
      "Enter the age of Shyam: 9\n",
      "Enter the age of Ajay: 8\n",
      "Ram age is youngest age..\n"
     ]
    }
   ],
   "source": [
    "'''\n",
    "11.If the ages of Ram, Shyam and Ajay are input through the keyboard, \n",
    "write a program to determine the youngest of the three.\n",
    "'''\n",
    "ram = int(input(\"Enter the age of Ram: \"))\n",
    "shyam = int(input(\"Enter the age of Shyam: \"))\n",
    "ajay = int(input(\"Enter the age of Ajay: \"))\n",
    "\n",
    "if ram <= 18:\n",
    "    print(\"Ram age is youngest age..\")\n",
    "elif ram >= 18:\n",
    "    print(\"Ram age is not youngest age..\")\n",
    "elif shyam <= 18:\n",
    "    print(\"Shyam age is youngest age..\")\n",
    "elif shyam >= 18:\n",
    "    print(\"Shyam age is not youngest age..\")\n",
    "elif ajay <= 18:\n",
    "    print(\"Ajay age is youngest age..\")\n",
    "elif ajay >= 18:\n",
    "    print(\"Ajay age is not youngest age..\")\n",
    "else:\n",
    "    print(\"Enter the correct age...\")"
   ]
  },
  {
   "cell_type": "code",
   "execution_count": 13,
   "id": "0daf48c5",
   "metadata": {},
   "outputs": [
    {
     "name": "stdout",
     "output_type": "stream",
     "text": [
      "Enter the year: 2024\n",
      "2024 year is leap year..\n"
     ]
    }
   ],
   "source": [
    "'''\n",
    "12.Any year is entered through the keyboard,\n",
    "write a program to determine whether the year is leap or not. Use the logical operators && and ||.\n",
    "'''\n",
    "yr = int(input(\"Enter the year: \"))\n",
    "if (yr % 4 == 0 and yr % 100 != 0) or (yr % 400 == 0):\n",
    "    print(yr, \"year is leap year..\")\n",
    "else:\n",
    "    print(yr, \"year is not leap year..\")"
   ]
  },
  {
   "cell_type": "code",
   "execution_count": 39,
   "id": "057c7a10",
   "metadata": {},
   "outputs": [
    {
     "name": "stdout",
     "output_type": "stream",
     "text": [
      "Enter the number of days late: 7\n",
      "Fine: Rs. 7.00\n"
     ]
    }
   ],
   "source": [
    "'''\n",
    "13.A library charges a fine for every book returned late. For first 5 days the fine is 50 paise, \n",
    "for 6-10 days fine is one rupee and above 10 days fine is 5 rupees.\n",
    "If you return the book after 30 days your membership will be cancelled.\n",
    "Write a program to accept the number of days the member is late to return the book and \n",
    "display the fine or the appropriate message.\n",
    "'''\n",
    "def calculate_fine(days_late):\n",
    "    if days_late <= 5:\n",
    "        fine = days_late * 0.50  \n",
    "    elif days_late <= 10:\n",
    "        fine = 5 + (days_late - 5) * 1  \n",
    "    else:\n",
    "        fine = 5 + 5 + (days_late - 10) * 5  \n",
    "    \n",
    "    if days_late > 30:\n",
    "        return \"Membership cancelled due to late return.\"\n",
    "    \n",
    "    return \"Fine: Rs. {:.2f}\".format(fine)\n",
    "\n",
    "days_late = int(input(\"Enter the number of days late: \"))\n",
    "\n",
    "print(calculate_fine(days_late))"
   ]
  },
  {
   "cell_type": "code",
   "execution_count": 27,
   "id": "1aa1e1da",
   "metadata": {},
   "outputs": [
    {
     "name": "stdout",
     "output_type": "stream",
     "text": [
      "Enter the time taken by the worker to complete the job (hours): 7\n",
      "Efficiency of the worker: Leave the Company\n"
     ]
    }
   ],
   "source": [
    "'''\n",
    "14.In a company, worker efficiency is determined on the basis of the time required for a worker to complete a particular job.\n",
    "If the time taken by the worker is between 2 – 3 hours, then the worker is said to be highly efficient. \n",
    "If the time required by the worker is between 3 – 4 hours, then the worker is ordered to improve speed. \n",
    "If the time taken is between 4 – 5 hours, the worker is given training to improve his speed, \n",
    "and if the time taken by the worker is more than 5 hours, then the worker has to leave the company.\n",
    "If the time taken by the worker is input through the keyboard, find the efficiency of the worker.\n",
    "'''\n",
    "def determine_efficiency(time_taken):\n",
    "    if time_taken >= 2 and time_taken < 3:\n",
    "        return \"Highly Efficient\"\n",
    "    elif time_taken >= 3 and time_taken < 4:\n",
    "        return \"Improve Speed\"\n",
    "    elif time_taken >= 4 and time_taken < 5:\n",
    "        return \"Training Required\"\n",
    "    elif time_taken >= 5:\n",
    "        return \"Leave the Company\"\n",
    "    else:\n",
    "        return \"Invalid input\"\n",
    "\n",
    "time_taken = float(input(\"Enter the time taken by the worker to complete the job (hours): \"))\n",
    "\n",
    "print(\"Efficiency of the worker:\", determine_efficiency(time_taken))"
   ]
  },
  {
   "cell_type": "code",
   "execution_count": 40,
   "id": "cb0c87ad",
   "metadata": {},
   "outputs": [
    {
     "name": "stdout",
     "output_type": "stream",
     "text": [
      "Enter the number: 678\n",
      "678 is not an Armstrong number\n"
     ]
    }
   ],
   "source": [
    "#15.Write a program to print the Armstrong numbers between 100 to 999.\n",
    "num = int(input('Enter the number: '))\n",
    "sum = 0\n",
    "temp = num\n",
    "\n",
    "while temp > 0:\n",
    "   digit = temp % 10                       ####doubt####\n",
    "   sum += digit ** 3\n",
    "   temp //= 10\n",
    "\n",
    "if num == sum:\n",
    "   print(num,\"is an Armstrong number\")\n",
    "else:\n",
    "   print(num,\"is not an Armstrong number\")"
   ]
  },
  {
   "cell_type": "code",
   "execution_count": 28,
   "id": "771db91c",
   "metadata": {},
   "outputs": [
    {
     "name": "stdout",
     "output_type": "stream",
     "text": [
      "Enter a number: 56789032\n",
      "Reverse of the number: 23098765\n"
     ]
    }
   ],
   "source": [
    "#16.Write a program to find the reverse of n digit number using While loop\n",
    "def reverse_number(number):\n",
    "    reverse = 0\n",
    "    while number > 0:\n",
    "        digit = number % 10\n",
    "        reverse = reverse * 10 + digit\n",
    "        number = number // 10\n",
    "    return reverse\n",
    "\n",
    "number = int(input(\"Enter a number: \"))\n",
    "\n",
    "reversed_number = reverse_number(number)\n",
    "\n",
    "print(\"Reverse of the number:\", reversed_number)\n"
   ]
  },
  {
   "cell_type": "code",
   "execution_count": 30,
   "id": "8aec25f9",
   "metadata": {},
   "outputs": [
    {
     "name": "stdout",
     "output_type": "stream",
     "text": [
      "Is empty_list empty:  True\n",
      "Is non_empty_list empty:  False\n"
     ]
    }
   ],
   "source": [
    "#17.Write a Python program to check a list is empty or not\n",
    "def is_list_empty(lst):\n",
    "    if not lst:\n",
    "        return True\n",
    "    else:\n",
    "        return False\n",
    "    \n",
    "empty_list = []\n",
    "non_empty_list = [1, 2, 3]\n",
    "\n",
    "print(\"Is empty_list empty: \", is_list_empty(empty_list))\n",
    "print(\"Is non_empty_list empty: \", is_list_empty(non_empty_list))\n"
   ]
  },
  {
   "cell_type": "code",
   "execution_count": 33,
   "id": "07bfbe5a",
   "metadata": {},
   "outputs": [
    {
     "name": "stdout",
     "output_type": "stream",
     "text": [
      "Enter the number of terms: 4\n",
      "Fibonacci sequence:\n",
      "0\n",
      "1\n",
      "1\n",
      "2\n"
     ]
    }
   ],
   "source": [
    "#18.Write a program to find the Fibonacci Series of the given number.\n",
    "nterms = int(input(\"Enter the number of terms: \"))\n",
    "n1, n2 = 0, 1\n",
    "count = 0\n",
    "\n",
    "if nterms <= 0:\n",
    "   print(\"Please enter a positive integer\")\n",
    "elif nterms == 1:\n",
    "   print(\"Fibonacci sequence upto\",nterms,\":\")\n",
    "   print(n1)\n",
    "else:\n",
    "   print(\"Fibonacci sequence:\")\n",
    "   while count < nterms:\n",
    "       print(n1)\n",
    "       nth = n1 + n2\n",
    "       n1 = n2\n",
    "       n2 = nth\n",
    "       count += 1"
   ]
  },
  {
   "cell_type": "code",
   "execution_count": 34,
   "id": "eccf9964",
   "metadata": {},
   "outputs": [
    {
     "name": "stdout",
     "output_type": "stream",
     "text": [
      "Enter a number: 6\n",
      "6 is a perfect number.\n"
     ]
    }
   ],
   "source": [
    "#19.Write a program to find the given number is perfect number\n",
    "def is_perfect_number(n):\n",
    "    if n <= 0:\n",
    "        return False\n",
    "    \n",
    "    divisor_sum = 0\n",
    "    for i in range(1, n):\n",
    "        if n % i == 0:\n",
    "            divisor_sum += i\n",
    "    \n",
    "    return divisor_sum == n\n",
    "\n",
    "number = int(input(\"Enter a number: \"))\n",
    "\n",
    "if is_perfect_number(number):\n",
    "    print(number, \"is a perfect number.\")\n",
    "else:\n",
    "    print(number, \"is not a perfect number.\")"
   ]
  },
  {
   "cell_type": "code",
   "execution_count": 37,
   "id": "60dcf3e8",
   "metadata": {},
   "outputs": [
    {
     "name": "stdout",
     "output_type": "stream",
     "text": [
      "Enter the first angle of the triangle: 35\n",
      "Enter the second angle of the triangle: 90\n",
      "Enter the third angle of the triangle: 86\n",
      "The triangle is not valid.\n"
     ]
    }
   ],
   "source": [
    "'''\n",
    "20.Write a program to check whether a triangle is valid or not,\n",
    "when the three angles of the triangle are entered through the keyboard. \n",
    "A triangle is valid if the sum of all the three angles is equal to 180 degrees.\n",
    "'''\n",
    "angle1 = int(input(\"Enter the first angle of the triangle: \"))\n",
    "angle2 = int(input(\"Enter the second angle of the triangle: \"))\n",
    "angle3 = int(input(\"Enter the third angle of the triangle: \"))\n",
    "\n",
    "if angle1 + angle2 + angle3 == 180:\n",
    "    print(\"The triangle is valid.\")\n",
    "else:\n",
    "    print(\"The triangle is not valid.\")"
   ]
  },
  {
   "cell_type": "code",
   "execution_count": 38,
   "id": "7ea28f11",
   "metadata": {},
   "outputs": [
    {
     "name": "stdout",
     "output_type": "stream",
     "text": [
      "Enter a five-digit number: 67893\n",
      "The original number and its reversed number are not equal.\n"
     ]
    }
   ],
   "source": [
    "'''\n",
    "21.A five-digit number is entered through the keyboard. \n",
    "Write a program to obtain the reversed number and to determine whether the original and reversed numbers are equal or not.\n",
    "'''\n",
    "def reverse_number(number):\n",
    "    reversed_number = 0\n",
    "    while number > 0:\n",
    "        digit = number % 10\n",
    "        reversed_number = reversed_number * 10 + digit\n",
    "        number //= 10\n",
    "    return reversed_number\n",
    "\n",
    "number = int(input(\"Enter a five-digit number: \"))\n",
    "\n",
    "if number < 10000 or number > 99999:\n",
    "    print(\"Please enter a valid five-digit number.\")\n",
    "else:\n",
    "    reversed_num = reverse_number(number)\n",
    "    \n",
    "    if number == reversed_num:\n",
    "        print(\"The original number and its reversed number are equal.\")\n",
    "    else:\n",
    "        print(\"The original number and its reversed number are not equal.\")"
   ]
  },
  {
   "cell_type": "code",
   "execution_count": null,
   "id": "9728e36d",
   "metadata": {},
   "outputs": [],
   "source": []
  },
  {
   "cell_type": "code",
   "execution_count": null,
   "id": "75214211",
   "metadata": {},
   "outputs": [],
   "source": []
  },
  {
   "cell_type": "code",
   "execution_count": null,
   "id": "bab60d85",
   "metadata": {},
   "outputs": [],
   "source": []
  },
  {
   "cell_type": "code",
   "execution_count": null,
   "id": "55dda77f",
   "metadata": {},
   "outputs": [],
   "source": []
  },
  {
   "cell_type": "code",
   "execution_count": null,
   "id": "3518e9e1",
   "metadata": {},
   "outputs": [],
   "source": []
  }
 ],
 "metadata": {
  "kernelspec": {
   "display_name": "Python 3 (ipykernel)",
   "language": "python",
   "name": "python3"
  },
  "language_info": {
   "codemirror_mode": {
    "name": "ipython",
    "version": 3
   },
   "file_extension": ".py",
   "mimetype": "text/x-python",
   "name": "python",
   "nbconvert_exporter": "python",
   "pygments_lexer": "ipython3",
   "version": "3.9.13"
  }
 },
 "nbformat": 4,
 "nbformat_minor": 5
}
